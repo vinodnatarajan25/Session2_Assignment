{
 "cells": [
  {
   "cell_type": "markdown",
   "metadata": {},
   "source": [
    "#Assignment 2"
   ]
  },
  {
   "cell_type": "code",
   "execution_count": 7,
   "metadata": {},
   "outputs": [
    {
     "name": "stdout",
     "output_type": "stream",
     "text": [
      "Output of myreduce on a list of integer is :21\n",
      "Output of myreduce on a list of string is :HI Hello Good Morning \n",
      "Output of myreduce on a list of string using LAMBDA is :10\n",
      "Output of myreduce on a comparative function using LAMBDA is :hello\n"
     ]
    }
   ],
   "source": [
    "# Question 1.1\n",
    "#Write a Python Program to implement your own myreduce() function which works exactly like\n",
    "#Python's built-in function reduce()\n",
    "\n",
    "def myreduce(fnc, lstseq):\n",
    "    \n",
    "        \n",
    "#     if len(lstseq)==0:\n",
    "#         print(\"List cannot be empty\")\n",
    "#     else:        \n",
    "    lstoutput = lstseq[0] \n",
    "        \n",
    "    for next in lstseq[1:]:             \n",
    "        lstoutput = fnc(lstoutput, next)\n",
    "    return lstoutput\n",
    "\n",
    "def add(x,y): \n",
    "    return x+y\n",
    "\n",
    "# Using myreduce function to apply a user defined function \"add\" to a given list of integers\n",
    "print(\"Output of myreduce on a list of integer is :\"+str(myreduce(add, [1,2,3,4,5,6])))    \n",
    "\n",
    "# Using myreduce function to apply a user defined function \"add\" to a given list of string\n",
    "print(\"Output of myreduce on a list of string is :\"+str(myreduce(add, [\"HI \",\"Hello \",\"Good \",\"Morning \"])))    \n",
    "\n",
    "# Using myreduce function to apply a function using LAMBDA to a given list of integers\n",
    "print(\"Output of myreduce on a list of string using LAMBDA is :\"+str(myreduce( (lambda x, y: x+y), [1, 2, 3, 4])))\n",
    "\n",
    "# Using myreduce function to apply a comparative function using LAMBDA to a given list of integers\n",
    "print(\"Output of myreduce on a comparative function using LAMBDA is :\"+str(myreduce( (lambda x, y: x if x < y else y), [\"hi\",\"hello\",\"i\"])))\n",
    "\n"
   ]
  },
  {
   "cell_type": "code",
   "execution_count": 8,
   "metadata": {},
   "outputs": [
    {
     "name": "stdout",
     "output_type": "stream",
     "text": [
      "Output of myfilter is :[1, 3, 4, 5]\n"
     ]
    }
   ],
   "source": [
    "#Question 1.2\n",
    "#Write a Python program to implement your own myfilter() function which works exactly like\n",
    "#Python's built-in function filter()\n",
    "\n",
    "def myfilter(anyfunc, sequence):\n",
    " # Initialize empty list\n",
    "    result = []\n",
    "    \n",
    " # iterate over sequence of items in sequence and apply filter function\n",
    "    for item in sequence:  \n",
    "        \n",
    "        if anyfunc(item):            \n",
    "            result.append(item)\n",
    "            \n",
    " # return final output\n",
    "    return result\n",
    "\n",
    "def ispositive(x):    \n",
    "    if (x <= 0):        \n",
    "        return False \n",
    "    else: \n",
    "        return True\n",
    "\n",
    "\n",
    "#lstval=input(\"Enter values seperated by comma : \")\n",
    "#lstval=lstval.split(\",\")\n",
    "#print(\"The entered list is : \"+str(lstval))\n",
    "print(\"Output of myfilter is :\"+str(myfilter(ispositive, [0,1,-2,3,4,5])))\n"
   ]
  },
  {
   "cell_type": "code",
   "execution_count": 84,
   "metadata": {
    "collapsed": true
   },
   "outputs": [],
   "source": [
    "# Question 2\n",
    "#Implement List comprehensions to produce the following lists.\n",
    "#Write List comprehensions to produce the following Lists\n",
    "\n",
    "#['A', 'C', 'A', 'D', 'G', 'I', ’L’, ‘ D’]\n",
    "#['x', 'xx', 'xxx', 'xxxx', 'y', 'yy', 'yyy', 'yyyy', 'z', 'zz', 'zzz', 'zzzz']\n",
    "#['x', 'y', 'z', 'xx', 'yy', 'zz', 'xx', 'yy', 'zz', 'xxxx', 'yyyy', 'zzzz']\n",
    "#[[2], [3], [4], [3], [4], [5], [4], [5], [6]]\n",
    "#[[2, 3, 4, 5], [3, 4, 5, 6], [4, 5, 6, 7], [5, 6, 7, 8]]\n",
    "#[(1, 1), (2, 1), (3, 1), (1, 2), (2, 2), (3, 2), (1, 3), (2, 3), (3, 3)]"
   ]
  },
  {
   "cell_type": "code",
   "execution_count": 9,
   "metadata": {},
   "outputs": [
    {
     "name": "stdout",
     "output_type": "stream",
     "text": [
      "Enter the word :  ACADGILD\n",
      "['A', 'C', 'A', 'D', 'G', 'I', 'L', 'D']\n"
     ]
    }
   ],
   "source": [
    "#['A', 'C', 'A', 'D', 'G', 'I', ’L’, ‘ D’]\n",
    "\n",
    "lstinout=input(\"Enter the word :  \")\n",
    "lstinout\n",
    "print(list([row[0].upper() for row in lstinout]))"
   ]
  },
  {
   "cell_type": "code",
   "execution_count": 10,
   "metadata": {},
   "outputs": [
    {
     "name": "stdout",
     "output_type": "stream",
     "text": [
      "Enter the list seperated by comma :  x,y,z\n",
      "Enter the range to be printed : 4\n",
      "['x', 'xx', 'xxx', 'xxxx', 'y', 'yy', 'yyy', 'yyyy', 'z', 'zz', 'zzz', 'zzzz']\n"
     ]
    }
   ],
   "source": [
    "#['x', 'xx', 'xxx', 'xxxx', 'y', 'yy', 'yyy', 'yyyy', 'z', 'zz', 'zzz', 'zzzz']\n",
    "\n",
    "lstin=input(\"Enter the list seperated by comma :  \")\n",
    "lstrange=input(\"Enter the range to be printed : \")\n",
    "\n",
    "lstin=lstin.split(\",\")\n",
    "\n",
    "# Using List Comprehension\n",
    "print(list([str(row[0])*j  for row in lstin for j in range(1,int(lstrange)+1)]))"
   ]
  },
  {
   "cell_type": "code",
   "execution_count": 11,
   "metadata": {},
   "outputs": [
    {
     "name": "stdout",
     "output_type": "stream",
     "text": [
      "Enter the list seperated by comma :  x,y,z\n",
      "Enter the range to be printed : 4\n",
      "['x', 'y', 'z']\n",
      "['x', 'y', 'z', 'xx', 'yy', 'zz', 'xxx', 'yyy', 'zzz', 'xxxx', 'yyyy', 'zzzz']\n"
     ]
    }
   ],
   "source": [
    "#['x', 'y', 'z', 'xx', 'yy', 'zz', 'xx', 'yy', 'zz', 'xxxx', 'yyyy', 'zzzz']\n",
    "\n",
    "lstin=input(\"Enter the list seperated by comma :  \")\n",
    "lstrange=input(\"Enter the range to be printed : \")\n",
    "lstin=lstin.split(\",\")\n",
    "       \n",
    "print(lstin)\n",
    "# Using List Comprehension\n",
    "print(list([str(row[0])*j  for j in range(1,int(lstrange)+1) for row in lstin]))"
   ]
  },
  {
   "cell_type": "code",
   "execution_count": 15,
   "metadata": {},
   "outputs": [
    {
     "name": "stdout",
     "output_type": "stream",
     "text": [
      "Enter the list seperated by comma :  2,3,4\n",
      "Enter no of times to be printed : 3\n"
     ]
    },
    {
     "data": {
      "text/plain": [
       "[[2], [3], [4], [3], [4], [5], [4], [5], [6]]"
      ]
     },
     "execution_count": 15,
     "metadata": {},
     "output_type": "execute_result"
    }
   ],
   "source": [
    "#[[2], [3], [4], [3], [4], [5], [4], [5], [6]]\n",
    "\n",
    "lstin=input(\"Enter the list seperated by comma :  \")\n",
    "lstrange=input(\"Enter no of times to be printed : \")\n",
    "lstin=lstin.split(\",\")\n",
    "#print(lstin)\n",
    "         \n",
    "lstout1=[]\n",
    "lsttemp=[]\n",
    "str1=\"\"\n",
    "\n",
    "# Using List Comprehension\n",
    "lstout1=(list([int(row[0])+j]  for j in range(0,int(lstrange)) for row in lstin))\n",
    "lstout1\n"
   ]
  },
  {
   "cell_type": "code",
   "execution_count": 17,
   "metadata": {},
   "outputs": [
    {
     "name": "stdout",
     "output_type": "stream",
     "text": [
      "Enter the list seperated by comma :  1,2,3,4\n",
      "Enter no of times to be printed : 4\n"
     ]
    },
    {
     "data": {
      "text/plain": [
       "[[2, 3, 4, 5], [3, 4, 5, 6], [4, 5, 6, 7], [5, 6, 7, 8]]"
      ]
     },
     "execution_count": 17,
     "metadata": {},
     "output_type": "execute_result"
    }
   ],
   "source": [
    "#[[2, 3, 4, 5], [3, 4, 5, 6], [4, 5, 6, 7], [5, 6, 7, 8]]\n",
    "\n",
    "lstin=input(\"Enter the list seperated by comma :  \")\n",
    "lstrange=input(\"Enter no of times to be printed : \")\n",
    "lstin=lstin.split(\",\")\n",
    "#print(lstin)\n",
    "         \n",
    "lstout1=[]\n",
    "lsttemp=[]\n",
    "\n",
    "# Using List Comprehension\n",
    "lstout1=(list([int(row[0])+j  for row in lstin] for j in range(1,int(lstrange)+1)))\n",
    "\n",
    "lstout1"
   ]
  },
  {
   "cell_type": "code",
   "execution_count": 19,
   "metadata": {},
   "outputs": [
    {
     "name": "stdout",
     "output_type": "stream",
     "text": [
      "Enter the list seperated by comma :  1,2,3\n",
      "['(1,1)', '(2,1)', '(3,1)', '(1,2)', '(2,2)', '(3,2)', '(1,3)', '(2,3)', '(3,3)']\n"
     ]
    }
   ],
   "source": [
    "#[(1, 1), (2, 1), (3, 1), (1, 2), (2, 2), (3, 2), (1, 3), (2, 3), (3, 3)]\n",
    "lstin=input(\"Enter the list seperated by comma :  \")\n",
    "lstout=[]\n",
    "\n",
    "lstin=lstin.split(\",\")\n",
    "\n",
    "#tpl=()\n",
    "\n",
    "# print(lstin)\n",
    "\n",
    "tpl=(list(str(\"(\"+str(lstin[j])+str(\",\")+str(lstin[i])+\")\")  for i in range(0,int(len(lstin))) for j in range(0,int(len(lstin)))))\n",
    "print(tpl)"
   ]
  },
  {
   "cell_type": "code",
   "execution_count": 20,
   "metadata": {},
   "outputs": [
    {
     "name": "stdout",
     "output_type": "stream",
     "text": [
      "Enter the list of words seperated by comma :  Python,Numpy,Panda,Scipy\n",
      "Word number 1 : Python\n",
      "Word number 2 : Numpy\n",
      "Word number 3 : Panda\n",
      "Word number 4 : Scipy\n",
      "Longest word in the given list is 'Python' and its length is '6'\n"
     ]
    }
   ],
   "source": [
    "#Question 3 Implement a function longestWord() that takes a list of words and returns the longest one.\n",
    "\n",
    "def longestWord(lstin):\n",
    "    lststart=lstin[0]\n",
    "    print(\"Word number 1 : \"+str(lstin[0]))\n",
    "    for i in range(1,len(lstin)):\n",
    "        print(\"Word number \"+str(i+1)+\" : \"+str(lstin[i]))\n",
    "        if int(len(lststart)) < int(len(lstin[i])):\n",
    "            lststart=lstin[i]\n",
    "    return(str(lststart),str(len(lststart)))\n",
    "\n",
    "              \n",
    "\n",
    "lstwords=input(\"Enter the list of words seperated by comma :  \")\n",
    "lstwords=lstwords.split(\",\")\n",
    "lw,lwlen=longestWord(lstwords)\n",
    "print(\"Longest word in the given list is '\"+str(lw)+ \"' and its length is '\"+str(lwlen)+str(\"'\"))\n"
   ]
  },
  {
   "cell_type": "code",
   "execution_count": 22,
   "metadata": {},
   "outputs": [
    {
     "name": "stdout",
     "output_type": "stream",
     "text": [
      "\n",
      "Inside Parent Class\n",
      "\n",
      "Enter First Side of the Triangle : 3\n",
      "\n",
      "Enter Second Side of the Triangle : 4\n",
      "\n",
      "Enter Third Side of the Triangle : 5\n",
      "\n",
      "Values Entered are : 3 4 5\n",
      "\n",
      "Inside Child Class\n",
      "\n",
      "Area of Triangle = 6.0\n"
     ]
    }
   ],
   "source": [
    "# Question 1.1\n",
    "# Write a Python Program(with class concepts) to find the area of the triangle using the below formula.\n",
    "# area = (s*(s-a)*(s-b)*(s-c)) ** 0.5\n",
    "# Function to take the length of the sides of triangle from user should be defined in the parent\n",
    "# class and function to calculate the area should be defined in subclass.\n",
    "\n",
    "class Triangle:\n",
    "    def __init__(self,side1,side2,side3):\n",
    "        self.side1=side1\n",
    "        self.side2=side2\n",
    "        self.side3=side3\n",
    "    print(\"\\nInside Parent Class\\n\")\n",
    "\n",
    "class Triangle_area(Triangle):\n",
    "    \n",
    "     def __init__(self,side1,side2,side3):\n",
    "        print(\"\\nInside Child Class\")\n",
    "        super(Triangle_area,self).__init__(side1,side2,side3)\n",
    "   \n",
    "     def calculate_area(self):\n",
    "         \n",
    "        s=(self.side1 + self.side2 + self.side3)/2\n",
    "        \n",
    "        return (s*(s-self.side1)*(s-self.side2)*(s-self.side3))** 0.5\n",
    "         \n",
    " \n",
    "\n",
    "s1=input(\"Enter First Side of the Triangle : \")\n",
    "s2=input(\"\\nEnter Second Side of the Triangle : \")\n",
    "s3=input(\"\\nEnter Third Side of the Triangle : \")\n",
    "print(\"\\nValues Entered are : \" + str(s1),str(s2),str(s3))\n",
    " \n",
    "tri=Triangle_area(int(s1),int(s2),int(s3))\n",
    "print(\"\\nArea of Triangle = \"+ str(tri.calculate_area()))"
   ]
  },
  {
   "cell_type": "code",
   "execution_count": 24,
   "metadata": {},
   "outputs": [
    {
     "name": "stdout",
     "output_type": "stream",
     "text": [
      "Enter the list of words seperated by comma :  Python,Numpy,Panda,Scipy,Matplotlib\n",
      "\n",
      "Enter the length of words to filter :  5\n",
      "\n",
      "Inside filter_long_words function\n",
      "\n",
      "Words that are greater than 5 are :\n"
     ]
    },
    {
     "data": {
      "text/plain": [
       "['Python', 'Matplotlib']"
      ]
     },
     "execution_count": 24,
     "metadata": {},
     "output_type": "execute_result"
    }
   ],
   "source": [
    "# Question 1.2\n",
    "#Write a function filter_long_words() that takes a list of words and an integer n and returns the list\n",
    "#of words that are longer than n.\n",
    "\n",
    "def filter_long_words(lstwords,lstlen):\n",
    "    print(\"\\nInside filter_long_words function\")\n",
    "    return list(filter(lambda x: len(x)>lstlen,lstwords))\n",
    "\n",
    "\n",
    "lstwords=input(\"Enter the list of words seperated by comma :  \")\n",
    "lstwords=lstwords.split(\",\")\n",
    "lstlen=int(input(\"\\nEnter the length of words to filter :  \"))\n",
    "lstfilter=filter_long_words(lstwords,lstlen)\n",
    "print(\"\\nWords that are greater than \"+str(lstlen)+\" are :\")\n",
    "lstfilter\n"
   ]
  },
  {
   "cell_type": "code",
   "execution_count": 25,
   "metadata": {},
   "outputs": [
    {
     "name": "stdout",
     "output_type": "stream",
     "text": [
      "Enter the list of words seperated by comma :  Python,Numpy,Panda,Scipy,Matplotlib\n",
      "\n",
      "Inside words_length function\n",
      "\n",
      "Length of Words are :[6, 5, 5, 5, 10]\n"
     ]
    }
   ],
   "source": [
    "# Question 2.1\n",
    "# Write a Python program using function concept that maps list of words into a list of integers\n",
    "# representing the lengths of the corresponding words .\n",
    "# Hint: If a list [ ab,cde,erty] is passed on to the python function output should come as [2,3,4]\n",
    "# Here 2,3 and 4 are the lengths of the words in the list.\n",
    "\n",
    "def words_length(lstwords):\n",
    "    print(\"\\nInside words_length function\")\n",
    "    return list(map(lambda x: len(x),lstwords))\n",
    "\n",
    "\n",
    "lstwords=input(\"Enter the list of words seperated by comma :  \")\n",
    "lstwords=lstwords.split(\",\")\n",
    "\n",
    "lstfilter=words_length(lstwords)\n",
    "print(\"\\nLength of Words are :\"+str(lstfilter))"
   ]
  },
  {
   "cell_type": "code",
   "execution_count": 26,
   "metadata": {},
   "outputs": [
    {
     "name": "stdout",
     "output_type": "stream",
     "text": [
      "Enter the character: a\n",
      "a is a vowel.\n"
     ]
    }
   ],
   "source": [
    "# Question 2.2\n",
    "\n",
    "#Write a Python function which takes a character (i.e. a string of length 1) and returns True if it is\n",
    "#a vowel, False otherwise.\n",
    "\n",
    "def vowel_check(char):\n",
    " if(char == 'a' or char == 'e' or char == 'i' or char == 'o' or char == 'u'):\n",
    "  return True\n",
    " elif (char == 'A' or char == 'E' or char == 'I' or char == 'O' or char == 'U'):\n",
    "  return True\n",
    " else:\n",
    "  return False\n",
    "\n",
    "# Take user input\n",
    "lstcharacter = input(\"Enter the character: \");\n",
    "vowel_check(lstcharacter)\n",
    "if len(lstcharacter)>1:\n",
    "    print(\"Invalid Character Length.. Length can be 1 only\")\n",
    "elif (vowel_check(lstcharacter)):\n",
    " print(lstcharacter, \"is a vowel.\");\n",
    "else:\n",
    " print(lstcharacter, \"is not a vowel.\"); "
   ]
  }
 ],
 "metadata": {
  "kernelspec": {
   "display_name": "Python 3",
   "language": "python",
   "name": "python3"
  },
  "language_info": {
   "codemirror_mode": {
    "name": "ipython",
    "version": 3
   },
   "file_extension": ".py",
   "mimetype": "text/x-python",
   "name": "python",
   "nbconvert_exporter": "python",
   "pygments_lexer": "ipython3",
   "version": "3.7.0"
  }
 },
 "nbformat": 4,
 "nbformat_minor": 2
}
